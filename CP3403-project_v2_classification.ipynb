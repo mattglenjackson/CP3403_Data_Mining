{
 "cells": [
  {
   "cell_type": "code",
   "execution_count": null,
   "outputs": [],
   "source": [
    "# pip install mlxtend #un-comment to run install if running for first time.\n",
    "# !pip install scikit-learn"
   ],
   "metadata": {
    "collapsed": false,
    "pycharm": {
     "name": "#%%\n"
    }
   }
  },
  {
   "cell_type": "code",
   "execution_count": null,
   "outputs": [],
   "source": [
    "import pandas as pd\n",
    "import numpy as np"
   ],
   "metadata": {
    "collapsed": false,
    "pycharm": {
     "name": "#%%\n"
    }
   }
  },
  {
   "cell_type": "code",
   "execution_count": null,
   "outputs": [],
   "source": [
    "df = pd.read_csv(\"diabetic_data.csv\",header=None)\n",
    "df.columns = ['encounter_id', 'patient_nbr', 'race', 'gender', 'age', 'weight', 'admission_type_id', 'discharge_disposition_id', 'admission_source_id', 'time_in_hospital', 'payer_code', 'medical_specialty', 'num_lab_procedures', 'num_procedures', 'num_medications', 'number_outpatient', 'number_emergency', 'number_inpatient', 'diag_1', 'diag_2', 'diag_3', 'number_diagnoses', 'max_glu_serum', 'A1Cresult', 'metformin', 'repaglinide', 'nateglinide', 'chlorpropamide', 'glimepiride', 'acetohexamide', 'glipizide', 'glyburide', 'tolbutamide', 'pioglitazone', 'rosiglitazone', 'acarbose', 'miglitol', 'troglitazone', 'tolazamid', 'examide', 'citoglipton', 'insulin', 'glyburide-metformin', 'glipizide-metformin', 'glimepiride-pioglitazone', 'metformin-rosiglitazone', 'metformin-pioglitazone', 'change', 'diabetesMed', 'readmitted'\n",
    "]\n",
    "df.drop(index=df.index[0], axis=0, inplace=True)\n",
    "\n",
    "data = df.copy()\n",
    "print(f\"The dataset has {df.shape[0]} rows and {df.shape[1]} columns\")\n",
    "print(data.describe())\n",
    "print(data.head())\n",
    "print(data.dtypes.value_counts())"
   ],
   "metadata": {
    "collapsed": false,
    "pycharm": {
     "name": "#%%\n"
    }
   }
  },
  {
   "cell_type": "code",
   "execution_count": null,
   "outputs": [],
   "source": [
    "data['weight'] = pd.to_numeric(data['weight'],errors='coerce') # weight in pounds\n",
    "data['time_in_hospital'] = pd.to_numeric(data['time_in_hospital'],errors='coerce') # number of days between admission and discharge\n",
    "data['num_lab_procedures'] = pd.to_numeric(data['num_lab_procedures'],errors='coerce') # number of lab test during the encounter\n",
    "data['num_procedures'] = pd.to_numeric(data['num_procedures'],errors='coerce') # number of procedures other than lab test, during the encounter\n",
    "data['num_medications'] = pd.to_numeric(data['num_medications'],errors='coerce') # number of distinct generic names administered during the encounter\n",
    "data['number_outpatient'] = pd.to_numeric(data['number_outpatient'],errors='coerce') # number of outpatient visits in the year preceding the encounter\n",
    "data['number_emergency'] = pd.to_numeric(data['number_emergency'],errors='coerce') # number of emergency visits in the year preceding the encounter\n",
    "data['number_inpatient'] = pd.to_numeric(data['number_inpatient'],errors='coerce') # number of inpatient visits in the year preceding the encounter\n",
    "data['number_diagnoses'] = pd.to_numeric(data['number_diagnoses'],errors='coerce') # number of diagnoses entered to the system "
   ],
   "metadata": {
    "collapsed": false,
    "pycharm": {
     "name": "#%%\n"
    }
   }
  },
  {
   "cell_type": "code",
   "execution_count": null,
   "outputs": [],
   "source": [
    "print(data.dtypes.value_counts())"
   ],
   "metadata": {
    "collapsed": false,
    "pycharm": {
     "name": "#%%\n"
    }
   }
  },
  {
   "cell_type": "code",
   "execution_count": null,
   "outputs": [],
   "source": [
    "numeric_attributes = data.columns[data.dtypes!=\"object\"]\n",
    "categorical_attributes =data.columns[data.dtypes==\"object\"]\n",
    "print(numeric_attributes)\n",
    "print(categorical_attributes)"
   ],
   "metadata": {
    "collapsed": false,
    "pycharm": {
     "name": "#%%\n"
    }
   }
  },
  {
   "cell_type": "markdown",
   "source": [
    "# Handling Missing Values"
   ],
   "metadata": {
    "collapsed": false,
    "pycharm": {
     "name": "#%% md\n"
    }
   }
  },
  {
   "cell_type": "markdown",
   "source": [
    "## Approach C - Replacing missing values with a user defined constant"
   ],
   "metadata": {
    "collapsed": false,
    "pycharm": {
     "name": "#%% md\n"
    }
   }
  },
  {
   "cell_type": "code",
   "execution_count": null,
   "outputs": [],
   "source": [
    "print('Before replacing missing values:')\n",
    "data.head(20)"
   ],
   "metadata": {
    "collapsed": false,
    "pycharm": {
     "name": "#%%\n"
    }
   }
  },
  {
   "cell_type": "markdown",
   "source": [
    "### Replacing missing values with a user defined constant"
   ],
   "metadata": {
    "collapsed": false,
    "pycharm": {
     "name": "#%% md\n"
    }
   }
  },
  {
   "cell_type": "code",
   "execution_count": null,
   "outputs": [],
   "source": [
    "data_1 = data.copy()\n",
    "data_1 = data_1.fillna(\"?\")\n",
    "data_1 = data_1.replace(\"?\", pd.NA)"
   ],
   "metadata": {
    "collapsed": false,
    "pycharm": {
     "name": "#%%\n"
    }
   }
  },
  {
   "cell_type": "markdown",
   "source": [
    "### Changing current values with a user defined constant"
   ],
   "metadata": {
    "collapsed": false,
    "pycharm": {
     "name": "#%% md\n"
    }
   }
  },
  {
   "cell_type": "code",
   "execution_count": null,
   "outputs": [],
   "source": [
    "data_1[\"admission_type_id\"] = data_1[\"admission_type_id\"].replace(\"1\", \"Emergency\")\n",
    "data_1[\"admission_type_id\"] = data_1[\"admission_type_id\"].replace(\"2\", \"Urgent\")\n",
    "data_1[\"admission_type_id\"] = data_1[\"admission_type_id\"].replace(\"3\", \"Elective\")\n",
    "data_1[\"admission_type_id\"] = data_1[\"admission_type_id\"].replace(\"4\", \"Newborn\")\n",
    "data_1[\"admission_type_id\"] = data_1[\"admission_type_id\"].replace(\"5\", \"Trauma Center\")\n",
    "data_1[\"admission_type_id\"] = data_1[\"admission_type_id\"].replace(\"6\", \"Transfer\")\n",
    "data_1[\"admission_type_id\"] = data_1[\"admission_type_id\"].replace(\"7\", \"Hospice\")\n",
    "data_1[\"admission_type_id\"] = data_1[\"admission_type_id\"].replace(\"8\", \"Unknown\")\n",
    "\n",
    "data_1[\"discharge_disposition_id\"] = data_1[\"discharge_disposition_id\"].replace(\"1\", \"Home\")\n",
    "data_1[\"discharge_disposition_id\"] = data_1[\"discharge_disposition_id\"].replace(\"2\", \"Short Term Hospital\")\n",
    "data_1[\"discharge_disposition_id\"] = data_1[\"discharge_disposition_id\"].replace(\"3\", \"SNF\")\n",
    "data_1[\"discharge_disposition_id\"] = data_1[\"discharge_disposition_id\"].replace(\"4\", \"ICF\")\n",
    "data_1[\"discharge_disposition_id\"] = data_1[\"discharge_disposition_id\"].replace(\"5\", \"Inpatient Care\")\n",
    "data_1[\"discharge_disposition_id\"] = data_1[\"discharge_disposition_id\"].replace(\"6\", \"Home w/ Home Health Service\")\n",
    "data_1[\"discharge_disposition_id\"] = data_1[\"discharge_disposition_id\"].replace(\"7\", \"Left Against Medical Advice\")\n",
    "data_1[\"discharge_disposition_id\"] = data_1[\"discharge_disposition_id\"].replace(\"8\", \"Home Under Care\")\n",
    "data_1[\"discharge_disposition_id\"] = data_1[\"discharge_disposition_id\"].replace(\"9\", \"Admitted as an inpatient\")\n",
    "data_1[\"discharge_disposition_id\"] = data_1[\"discharge_disposition_id\"].replace(\"10\", \"Nenonate Discharge/Neonatal Aftercare\")\n",
    "data_1[\"discharge_disposition_id\"] = data_1[\"discharge_disposition_id\"].replace(\"11\", \"Expired\")\n",
    "data_1[\"discharge_disposition_id\"] = data_1[\"discharge_disposition_id\"].replace(\"12\", \"Expected Return for Outpatient Services\")\n",
    "data_1[\"discharge_disposition_id\"] = data_1[\"discharge_disposition_id\"].replace(\"13\", \"Hospice/Home\")\n",
    "data_1[\"discharge_disposition_id\"] = data_1[\"discharge_disposition_id\"].replace(\"14\", \"Hospice/Medical Facility\")\n",
    "data_1[\"discharge_disposition_id\"] = data_1[\"discharge_disposition_id\"].replace(\"15\", \"Medicare-approved Swing Bed\")\n",
    "data_1[\"discharge_disposition_id\"] = data_1[\"discharge_disposition_id\"].replace(\"16\", \"Transferred for Outpatient Services\")\n",
    "data_1[\"discharge_disposition_id\"] = data_1[\"discharge_disposition_id\"].replace(\"17\", \"Referred for Outpatient Services\")\n",
    "data_1[\"discharge_disposition_id\"] = data_1[\"discharge_disposition_id\"].replace(\"18\", \"NULL\")\n",
    "data_1[\"discharge_disposition_id\"] = data_1[\"discharge_disposition_id\"].replace(\"19\", \"Expired at Home\")\n",
    "data_1[\"discharge_disposition_id\"] = data_1[\"discharge_disposition_id\"].replace(\"20\", \"Expired at Medical facility\")\n",
    "data_1[\"discharge_disposition_id\"] = data_1[\"discharge_disposition_id\"].replace(\"21\", \"Expired, Place Unknown\")\n",
    "data_1[\"discharge_disposition_id\"] = data_1[\"discharge_disposition_id\"].replace(\"22\", \"Rehabilitation Facility\")\n",
    "data_1[\"discharge_disposition_id\"] = data_1[\"discharge_disposition_id\"].replace(\"23\", \"Long Term Care\")\n",
    "data_1[\"discharge_disposition_id\"] = data_1[\"discharge_disposition_id\"].replace(\"24\", \"Nursing Facility-Medicaid Certified\")\n",
    "data_1[\"discharge_disposition_id\"] = data_1[\"discharge_disposition_id\"].replace(\"25\", \"Not Mapped\")\n",
    "data_1[\"discharge_disposition_id\"] = data_1[\"discharge_disposition_id\"].replace(\"26\", \"Unknown/Invalid\")\n",
    "data_1[\"discharge_disposition_id\"] = data_1[\"discharge_disposition_id\"].replace(\"27\", \"Federal Health Facility\")\n",
    "data_1[\"discharge_disposition_id\"] = data_1[\"discharge_disposition_id\"].replace(\"28\", \"Psychiatric Hospital/Unit\")\n",
    "data_1[\"discharge_disposition_id\"] = data_1[\"discharge_disposition_id\"].replace(\"29\", \"Critical Access Hospital\")\n",
    "data_1[\"discharge_disposition_id\"] = data_1[\"discharge_disposition_id\"].replace(\"30\", \"Health Care Facility not Defined Elsewhere\")\n",
    "\n",
    "# data_1[\"A1Cresult\"] = data_1[\"A1Cresult\"].replace(\">7\", \"Moderate Risk\")\n",
    "# data_1[\"A1Cresult\"] = data_1[\"A1Cresult\"].replace(\">8\", \"High Risk\")\n",
    "\n",
    "\n",
    "print('\\After replacing missing values:')\n",
    "data_1.head(50)"
   ],
   "metadata": {
    "collapsed": false,
    "pycharm": {
     "name": "#%%\n"
    }
   }
  },
  {
   "cell_type": "markdown",
   "source": [
    "## Approach A - Removal of rows containing missing values"
   ],
   "metadata": {
    "collapsed": false,
    "pycharm": {
     "name": "#%% md\n"
    }
   }
  },
  {
   "cell_type": "code",
   "execution_count": null,
   "outputs": [],
   "source": [
    "print(f\"There are {data_1.isnull().sum().sum()} missing values in this dataset\")\n",
    "\n",
    "print('Number of instances = %d'%(data_1.shape[0]))\n",
    "print('Number of attributes = %d'%(data_1.shape[1]))\n",
    "\n",
    "print('Number of missing values:')\n",
    "for col in data_1.columns:\n",
    "    print('\\t%s:%d'%(col,data_1[col].isna().sum()))\n",
    "\n",
    "data_1.head(20)"
   ],
   "metadata": {
    "collapsed": false,
    "pycharm": {
     "name": "#%%\n"
    }
   }
  },
  {
   "cell_type": "code",
   "execution_count": null,
   "outputs": [],
   "source": [
    "data_1 = data_1.dropna(subset=[\"race\", \"diag_1\", \"diag_2\", \"diag_3\"])"
   ],
   "metadata": {
    "collapsed": false,
    "pycharm": {
     "name": "#%%\n"
    }
   }
  },
  {
   "cell_type": "code",
   "execution_count": null,
   "outputs": [],
   "source": [
    "print(f\"There are {data_1.isnull().sum().sum()} missing values in this dataset\")\n",
    "\n",
    "print('Number of instances = %d'%(data_1.shape[0]))\n",
    "print('Number of attributes = %d'%(data_1.shape[1]))\n",
    "\n",
    "print('Number of missing values:')\n",
    "for col in data_1.columns:\n",
    "    print('\\t%s:%d'%(col,data_1[col].isna().sum()))\n",
    "    \n",
    "print(data_1.describe())\n",
    "print(data_1.head())"
   ],
   "metadata": {
    "collapsed": false,
    "pycharm": {
     "name": "#%%\n"
    }
   }
  },
  {
   "cell_type": "markdown",
   "source": [
    "## Approach D - Removal of attributes containing missing values"
   ],
   "metadata": {
    "collapsed": false,
    "pycharm": {
     "name": "#%% md\n"
    }
   }
  },
  {
   "cell_type": "code",
   "execution_count": null,
   "outputs": [],
   "source": [
    "print('Number of missing values:')\n",
    "for col in data_1.columns:\n",
    "    print('\\t%s:%d'%(col,data_1[col].isna().sum()))"
   ],
   "metadata": {
    "collapsed": false,
    "pycharm": {
     "name": "#%%\n"
    }
   }
  },
  {
   "cell_type": "code",
   "execution_count": null,
   "outputs": [],
   "source": [
    "data_1.drop('weight', axis=1, inplace=True) # 98053 records with missing values, deemed unusable\n",
    "data_1.drop('payer_code', axis=1, inplace=True) # 38924 records with missing values, deemed unusable\n",
    "data_1.drop('medical_specialty', axis=1, inplace=True) # 48318 records with missing values, deemed un"
   ],
   "metadata": {
    "collapsed": false,
    "pycharm": {
     "name": "#%%\n"
    }
   }
  },
  {
   "cell_type": "code",
   "execution_count": null,
   "outputs": [],
   "source": [
    "print('Number of missing values after removal:')\n",
    "for col in data_1.columns:\n",
    "    print('\\t%s:%d'%(col,data_1[col].isna().sum()))\n",
    "    \n",
    "data_1.head(20)"
   ],
   "metadata": {
    "collapsed": false,
    "pycharm": {
     "name": "#%%\n"
    }
   }
  },
  {
   "cell_type": "markdown",
   "source": [
    "## Classification - Naive Bayes"
   ],
   "metadata": {
    "collapsed": false,
    "pycharm": {
     "name": "#%% md\n"
    }
   }
  },
  {
   "cell_type": "markdown",
   "source": [
    "### Create data subset"
   ],
   "metadata": {
    "collapsed": false,
    "pycharm": {
     "name": "#%% md\n"
    }
   }
  },
  {
   "cell_type": "code",
   "execution_count": null,
   "outputs": [],
   "source": [
    "# Some work was tried to create subset first before changing category names, but errors happened that were not easy to fix.\n",
    "# Changing category names first was a way to avoid the errors, and still keep the data integrity.\n",
    "class_data_1 = data_1.copy()\n",
    "class_data_1.head()"
   ],
   "metadata": {
    "collapsed": false,
    "pycharm": {
     "name": "#%%\n"
    }
   }
  },
  {
   "cell_type": "markdown",
   "source": [
    "#### Change category names"
   ],
   "metadata": {
    "collapsed": false,
    "pycharm": {
     "name": "#%% md\n"
    }
   }
  },
  {
   "cell_type": "code",
   "execution_count": null,
   "outputs": [],
   "source": [
    "class_data_1[\"A1Cresult\"] = class_data_1[\"A1Cresult\"].replace(\">7\", \"Moderate Risk\")\n",
    "class_data_1[\"A1Cresult\"] = class_data_1[\"A1Cresult\"].replace(\">8\", \"High Risk\")\n",
    "class_data_1[\"A1Cresult\"] = class_data_1[\"A1Cresult\"].replace(\"Norm\", \"Normal\")\n",
    "class_data_1[\"A1Cresult\"] = class_data_1[\"A1Cresult\"].replace(\"None\", pd.NA)"
   ],
   "metadata": {
    "collapsed": false,
    "pycharm": {
     "name": "#%%\n"
    }
   }
  },
  {
   "cell_type": "code",
   "execution_count": null,
   "outputs": [],
   "source": [
    "class_data_1 = class_data_1.dropna(subset=[\"A1Cresult\"])"
   ],
   "metadata": {
    "collapsed": false,
    "pycharm": {
     "name": "#%%\n"
    }
   }
  },
  {
   "cell_type": "code",
   "execution_count": null,
   "outputs": [],
   "source": [
    "class_data_1.head()"
   ],
   "metadata": {
    "collapsed": false,
    "pycharm": {
     "name": "#%%\n"
    }
   }
  },
  {
   "cell_type": "code",
   "execution_count": null,
   "outputs": [],
   "source": [
    "class_data_1 = class_data_1[['age','race','gender','admission_type_id','time_in_hospital','num_procedures','A1Cresult','diabetesMed']]"
   ],
   "metadata": {
    "collapsed": false,
    "pycharm": {
     "name": "#%%\n"
    }
   }
  },
  {
   "cell_type": "markdown",
   "source": [
    "#### Create data copy for later if needed"
   ],
   "metadata": {
    "collapsed": false,
    "pycharm": {
     "name": "#%% md\n"
    }
   }
  },
  {
   "cell_type": "code",
   "execution_count": null,
   "outputs": [],
   "source": [
    "class_data_2 = class_data_1.copy()"
   ],
   "metadata": {
    "collapsed": false,
    "pycharm": {
     "name": "#%%\n"
    }
   }
  },
  {
   "cell_type": "markdown",
   "source": [
    "#### Change data into correct format"
   ],
   "metadata": {
    "collapsed": false,
    "pycharm": {
     "name": "#%% md\n"
    }
   }
  },
  {
   "cell_type": "markdown",
   "source": [
    "##### Bin numerical data"
   ],
   "metadata": {
    "collapsed": false,
    "pycharm": {
     "name": "#%% md\n"
    }
   }
  },
  {
   "cell_type": "code",
   "execution_count": null,
   "outputs": [],
   "source": [
    "class_data_2.describe()"
   ],
   "metadata": {
    "collapsed": false,
    "pycharm": {
     "name": "#%%\n"
    }
   }
  },
  {
   "cell_type": "code",
   "execution_count": null,
   "outputs": [],
   "source": [
    "time_in_hospital_bins = [0, 3, 7, 14]  # Define bin edges based on quartiles\n",
    "class_data_2['time_in_hospital'] = pd.cut(class_data_2['time_in_hospital'], bins=time_in_hospital_bins, labels=[\"Low\", \"Medium\", \"High\"])"
   ],
   "metadata": {
    "collapsed": false,
    "pycharm": {
     "name": "#%%\n"
    }
   }
  },
  {
   "cell_type": "code",
   "execution_count": null,
   "outputs": [],
   "source": [
    "num_procedure_bins = [-0.1, 2.5, 6.1]  # Define bin edges based on quartiles\n",
    "class_data_2['num_procedures'] = pd.cut(class_data_2['num_procedures'], bins=num_procedure_bins, labels=[\"Low\", \"High\"])"
   ],
   "metadata": {
    "collapsed": false,
    "pycharm": {
     "name": "#%%\n"
    }
   }
  },
  {
   "cell_type": "code",
   "execution_count": null,
   "outputs": [],
   "source": [
    "class_data_2.describe()"
   ],
   "metadata": {
    "collapsed": false,
    "pycharm": {
     "name": "#%%\n"
    }
   }
  },
  {
   "cell_type": "markdown",
   "source": [
    "### Naive Bayes Classification"
   ],
   "metadata": {
    "collapsed": false,
    "pycharm": {
     "name": "#%% md\n"
    }
   }
  },
  {
   "cell_type": "code",
   "execution_count": null,
   "outputs": [],
   "source": [
    "from sklearn.naive_bayes import GaussianNB\n",
    "from sklearn.model_selection import train_test_split\n",
    "from sklearn.metrics import accuracy_score\n",
    "from sklearn.utils.class_weight import compute_class_weight\n",
    "\n",
    "X = class_data_2[['age','race','gender','admission_type_id','time_in_hospital','num_procedures','diabetesMed']]\n",
    "Y = class_data_2['A1Cresult']\n",
    "\n",
    "X_encoded = pd.get_dummies(X)\n",
    "\n",
    "#Split the data into training and testing sets\n",
    "X_train, X_test, y_train, y_test = train_test_split(X_encoded, Y, test_size=0.20, random_state=42)\n",
    "\n",
    "gnb = GaussianNB()\n",
    "gnb.fit(X_train, y_train)\n",
    "\n",
    "#Make predictions on the testing data\n",
    "y_pred = gnb.predict(X_test)\n",
    "\n",
    "#Calculate accuracy\n",
    "accuracy = accuracy_score(y_test, y_pred)\n",
    "print('Accuracy of GNB classifier on testing set:', accuracy)\n"
   ],
   "metadata": {
    "collapsed": false,
    "pycharm": {
     "name": "#%%\n"
    }
   }
  },
  {
   "cell_type": "code",
   "execution_count": null,
   "outputs": [],
   "source": [
    "from sklearn.model_selection import KFold\n",
    "\n",
    "X_encoded = pd.get_dummies(X)\n",
    "\n",
    "gnb = GaussianNB()\n",
    "\n",
    "# Define number of folds for cross-validation\n",
    "num_folds = 5\n",
    "kf = KFold(n_splits=num_folds, shuffle=True, random_state=42)\n",
    "\n",
    "# Initialize a list to store accuracy scores for each fold\n",
    "accuracy_scores = []\n",
    "\n",
    "# Perform k-fold cross-validation\n",
    "for train_index, test_index in kf.split(X_encoded):\n",
    "    X_train, X_test = X_encoded.iloc[train_index], X_encoded.iloc[test_index]\n",
    "    y_train, y_test = Y.iloc[train_index], Y.iloc[test_index]\n",
    "    \n",
    "    # Fit the classifier on the training data\n",
    "    gnb.fit(X_train, y_train)\n",
    "    \n",
    "    # Make predictions on the testing data\n",
    "    y_pred = gnb.predict(X_test)\n",
    "    \n",
    "    # Calculate accuracy for this fold and store it\n",
    "    accuracy = accuracy_score(y_test, y_pred)\n",
    "    accuracy_scores.append(accuracy)\n",
    "\n",
    "# Calculate the mean accuracy across all folds\n",
    "mean_accuracy = np.mean(accuracy_scores)\n",
    "print('Mean accuracy of GNB classifier with', num_folds, 'fold cross-validation:', mean_accuracy)\n"
   ],
   "metadata": {
    "collapsed": false,
    "pycharm": {
     "name": "#%%\n"
    }
   }
  },
  {
   "cell_type": "code",
   "execution_count": null,
   "outputs": [],
   "source": [
    "from sklearn.tree import DecisionTreeClassifier\n",
    "\n",
    "# Initialize Decision Tree classifier\n",
    "dt_classifier = DecisionTreeClassifier(random_state=42)\n",
    "\n",
    "# Define number of folds for cross-validation\n",
    "num_folds = 5\n",
    "kf = KFold(n_splits=num_folds, shuffle=True, random_state=42)\n",
    "\n",
    "# Initialize a list to store accuracy scores for each fold\n",
    "accuracy_scores = []\n",
    "\n",
    "# Perform k-fold cross-validation\n",
    "for train_index, test_index in kf.split(X_encoded):\n",
    "    X_train, X_test = X_encoded.iloc[train_index], X_encoded.iloc[test_index]\n",
    "    y_train, y_test = Y.iloc[train_index], Y.iloc[test_index]\n",
    "    \n",
    "    # Fit the classifier on the training data\n",
    "    dt_classifier.fit(X_train, y_train)\n",
    "    \n",
    "    # Make predictions on the testing data\n",
    "    y_pred = dt_classifier.predict(X_test)\n",
    "    \n",
    "    # Calculate accuracy for this fold and store it\n",
    "    accuracy = accuracy_score(y_test, y_pred)\n",
    "    accuracy_scores.append(accuracy)\n",
    "\n",
    "# Calculate the mean accuracy across all folds\n",
    "mean_accuracy = np.mean(accuracy_scores)\n",
    "print('Mean accuracy of Decision Tree classifier with', num_folds, 'fold cross-validation:', mean_accuracy)\n"
   ],
   "metadata": {
    "collapsed": false,
    "pycharm": {
     "name": "#%%\n"
    }
   }
  },
  {
   "cell_type": "code",
   "execution_count": 29,
   "id": "3e775f57",
   "metadata": {},
   "outputs": [
    {
     "name": "stdout",
     "output_type": "stream",
     "text": [
      "Mean accuracy of Decision Tree classifier with 5 fold cross-validation: 0.4713144369854657\n"
     ]
    }
   ],
   "source": [
    "from sklearn.tree import DecisionTreeClassifier\n",
    "\n",
    "# Initialize Decision Tree classifier\n",
    "dt_classifier = DecisionTreeClassifier(random_state=42)\n",
    "\n",
    "# Define number of folds for cross-validation\n",
    "num_folds = 5\n",
    "kf = KFold(n_splits=num_folds, shuffle=True, random_state=42)\n",
    "\n",
    "# Initialize a list to store accuracy scores for each fold\n",
    "accuracy_scores = []\n",
    "\n",
    "# Perform k-fold cross-validation\n",
    "for train_index, test_index in kf.split(X_encoded):\n",
    "    X_train, X_test = X_encoded.iloc[train_index], X_encoded.iloc[test_index]\n",
    "    y_train, y_test = Y.iloc[train_index], Y.iloc[test_index]\n",
    "    \n",
    "    # Fit the classifier on the training data\n",
    "    dt_classifier.fit(X_train, y_train)\n",
    "    \n",
    "    # Make predictions on the testing data\n",
    "    y_pred = dt_classifier.predict(X_test)\n",
    "    \n",
    "    # Calculate accuracy for this fold and store it\n",
    "    accuracy = accuracy_score(y_test, y_pred)\n",
    "    accuracy_scores.append(accuracy)\n",
    "\n",
    "# Calculate the mean accuracy across all folds\n",
    "mean_accuracy = np.mean(accuracy_scores)\n",
    "print('Mean accuracy of Decision Tree classifier with', num_folds, 'fold cross-validation:', mean_accuracy)\n"
   ]
  },
  {
   "cell_type": "code",
   "execution_count": null,
   "id": "f63c5daa-b10d-402b-9e33-ec9165adf605",
   "metadata": {},
   "outputs": [],
   "source": []
  }
 ],
 "metadata": {
  "kernelspec": {
   "display_name": "Python 3 (ipykernel)",
   "language": "python",
   "name": "python3"
  },
  "language_info": {
   "codemirror_mode": {
    "name": "ipython",
    "version": 3
   },
   "file_extension": ".py",
   "mimetype": "text/x-python",
   "name": "python",
   "nbconvert_exporter": "python",
   "pygments_lexer": "ipython3",
   "version": "3.11.5"
  }
 },
 "nbformat": 4,
 "nbformat_minor": 5
}